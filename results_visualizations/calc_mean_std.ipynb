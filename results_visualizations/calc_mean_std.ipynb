{
 "cells": [
  {
   "cell_type": "code",
   "execution_count": 29,
   "id": "6f277a98",
   "metadata": {},
   "outputs": [],
   "source": [
    "import pandas as pd\n",
    "import numpy as np"
   ]
  },
  {
   "cell_type": "markdown",
   "id": "d3ab3956",
   "metadata": {},
   "source": [
    "# CTGAN Results"
   ]
  },
  {
   "cell_type": "code",
   "execution_count": 30,
   "id": "b267e545",
   "metadata": {},
   "outputs": [
    {
     "data": {
      "text/html": [
       "<div>\n",
       "<style scoped>\n",
       "    .dataframe tbody tr th:only-of-type {\n",
       "        vertical-align: middle;\n",
       "    }\n",
       "\n",
       "    .dataframe tbody tr th {\n",
       "        vertical-align: top;\n",
       "    }\n",
       "\n",
       "    .dataframe thead th {\n",
       "        text-align: right;\n",
       "    }\n",
       "</style>\n",
       "<table border=\"1\" class=\"dataframe\">\n",
       "  <thead>\n",
       "    <tr style=\"text-align: right;\">\n",
       "      <th></th>\n",
       "      <th>real_accuracy</th>\n",
       "      <th>synth_accuracy</th>\n",
       "      <th>f1_ml_real</th>\n",
       "      <th>f1_ml_synth</th>\n",
       "    </tr>\n",
       "  </thead>\n",
       "  <tbody>\n",
       "    <tr>\n",
       "      <th>0</th>\n",
       "      <td>0.599371</td>\n",
       "      <td>0.503300</td>\n",
       "      <td>0.607005</td>\n",
       "      <td>0.554378</td>\n",
       "    </tr>\n",
       "    <tr>\n",
       "      <th>1</th>\n",
       "      <td>0.602516</td>\n",
       "      <td>0.501971</td>\n",
       "      <td>0.592070</td>\n",
       "      <td>0.514682</td>\n",
       "    </tr>\n",
       "    <tr>\n",
       "      <th>2</th>\n",
       "      <td>0.600833</td>\n",
       "      <td>0.499358</td>\n",
       "      <td>0.594267</td>\n",
       "      <td>0.535580</td>\n",
       "    </tr>\n",
       "    <tr>\n",
       "      <th>3</th>\n",
       "      <td>0.602117</td>\n",
       "      <td>0.500687</td>\n",
       "      <td>0.598957</td>\n",
       "      <td>0.521469</td>\n",
       "    </tr>\n",
       "    <tr>\n",
       "      <th>4</th>\n",
       "      <td>0.603667</td>\n",
       "      <td>0.503920</td>\n",
       "      <td>0.581890</td>\n",
       "      <td>0.510885</td>\n",
       "    </tr>\n",
       "  </tbody>\n",
       "</table>\n",
       "</div>"
      ],
      "text/plain": [
       "   real_accuracy  synth_accuracy  f1_ml_real  f1_ml_synth\n",
       "0       0.599371        0.503300    0.607005     0.554378\n",
       "1       0.602516        0.501971    0.592070     0.514682\n",
       "2       0.600833        0.499358    0.594267     0.535580\n",
       "3       0.602117        0.500687    0.598957     0.521469\n",
       "4       0.603667        0.503920    0.581890     0.510885"
      ]
     },
     "execution_count": 30,
     "metadata": {},
     "output_type": "execute_result"
    }
   ],
   "source": [
    "# load data\n",
    "results = pd.read_csv(\"../results/MIA_Attack_Results_CTGAN.csv\")\n",
    "results"
   ]
  },
  {
   "cell_type": "code",
   "execution_count": 32,
   "id": "2602ed08",
   "metadata": {},
   "outputs": [
    {
     "name": "stdout",
     "output_type": "stream",
     "text": [
      "CTGAN-Results\n",
      "Real Data Accuracy: 60.2% ± 0.1%\n",
      "Synthetic Data Accuracy: 50.2% ± 0.0%\n",
      "Real Data F1 Score: 59.5% ± 0.8%\n",
      "Synthetic Data F1 Score: 52.7% ± 1.6%\n"
     ]
    }
   ],
   "source": [
    "# calculate mean and std\n",
    "mean_real = np.mean(results['real_accuracy'])\n",
    "std_real = np.std(results['real_accuracy'])\n",
    "mean_synth = np.mean(results['synth_accuracy'])\n",
    "std_synth = np.std(results['synth_accuracy'])\n",
    "\n",
    "mean_f1_real = np.mean(results['f1_ml_real'])\n",
    "std_f1_real = np.std(results['f1_ml_real'])\n",
    "mean_f1_synth = np.mean(results['f1_ml_synth'])\n",
    "std_f1_synth = np.std(results['f1_ml_synth'])\n",
    "\n",
    "print('CTGAN-Results')\n",
    "print(f\"Real Data Accuracy: {100 * mean_real:.1f}% ± {100*std_real:.1f}%\")\n",
    "print(f\"Synthetic Data Accuracy: {100* mean_synth:.1f}% ± {std_synth:.1f}%\")\n",
    "print(f\"Real Data F1 Score: {100 * mean_f1_real:.1f}% ± {100*std_f1_real:.1f}%\")\n",
    "print(f\"Synthetic Data F1 Score: {100 * mean_f1_synth:.1f}% ± {100*std_f1_synth:.1f}%\")"
   ]
  },
  {
   "cell_type": "markdown",
   "id": "3d654f00",
   "metadata": {},
   "source": [
    "# CopulaSynthesizer"
   ]
  },
  {
   "cell_type": "code",
   "execution_count": 34,
   "id": "7cb5d1ed",
   "metadata": {},
   "outputs": [
    {
     "data": {
      "text/html": [
       "<div>\n",
       "<style scoped>\n",
       "    .dataframe tbody tr th:only-of-type {\n",
       "        vertical-align: middle;\n",
       "    }\n",
       "\n",
       "    .dataframe tbody tr th {\n",
       "        vertical-align: top;\n",
       "    }\n",
       "\n",
       "    .dataframe thead th {\n",
       "        text-align: right;\n",
       "    }\n",
       "</style>\n",
       "<table border=\"1\" class=\"dataframe\">\n",
       "  <thead>\n",
       "    <tr style=\"text-align: right;\">\n",
       "      <th></th>\n",
       "      <th>real_accuracy</th>\n",
       "      <th>synth_accuracy</th>\n",
       "      <th>f1_ml_real</th>\n",
       "      <th>f1_ml_synth</th>\n",
       "    </tr>\n",
       "  </thead>\n",
       "  <tbody>\n",
       "    <tr>\n",
       "      <th>0</th>\n",
       "      <td>0.599371</td>\n",
       "      <td>0.506356</td>\n",
       "      <td>0.607005</td>\n",
       "      <td>0.360176</td>\n",
       "    </tr>\n",
       "    <tr>\n",
       "      <th>1</th>\n",
       "      <td>0.602516</td>\n",
       "      <td>0.500908</td>\n",
       "      <td>0.592070</td>\n",
       "      <td>0.420939</td>\n",
       "    </tr>\n",
       "    <tr>\n",
       "      <th>2</th>\n",
       "      <td>0.600833</td>\n",
       "      <td>0.525801</td>\n",
       "      <td>0.594267</td>\n",
       "      <td>0.349353</td>\n",
       "    </tr>\n",
       "    <tr>\n",
       "      <th>3</th>\n",
       "      <td>0.602117</td>\n",
       "      <td>0.512513</td>\n",
       "      <td>0.598957</td>\n",
       "      <td>0.336266</td>\n",
       "    </tr>\n",
       "    <tr>\n",
       "      <th>4</th>\n",
       "      <td>0.603667</td>\n",
       "      <td>0.495726</td>\n",
       "      <td>0.581890</td>\n",
       "      <td>0.396374</td>\n",
       "    </tr>\n",
       "  </tbody>\n",
       "</table>\n",
       "</div>"
      ],
      "text/plain": [
       "   real_accuracy  synth_accuracy  f1_ml_real  f1_ml_synth\n",
       "0       0.599371        0.506356    0.607005     0.360176\n",
       "1       0.602516        0.500908    0.592070     0.420939\n",
       "2       0.600833        0.525801    0.594267     0.349353\n",
       "3       0.602117        0.512513    0.598957     0.336266\n",
       "4       0.603667        0.495726    0.581890     0.396374"
      ]
     },
     "execution_count": 34,
     "metadata": {},
     "output_type": "execute_result"
    }
   ],
   "source": [
    "# load data\n",
    "results = pd.read_csv(\"../results/MIA_Attack_Results_Copula.csv\")\n",
    "results"
   ]
  },
  {
   "cell_type": "code",
   "execution_count": 35,
   "id": "56f094a2",
   "metadata": {},
   "outputs": [
    {
     "name": "stdout",
     "output_type": "stream",
     "text": [
      "Copula-Results\n",
      "Real Data Accuracy: 60.2% ± 0.1%\n",
      "Synthetic Data Accuracy: 50.8% ± 0.0%\n",
      "Real Data F1 Score: 59.5% ± 0.8%\n",
      "Synthetic Data F1 Score: 37.3% ± 3.1%\n"
     ]
    }
   ],
   "source": [
    "# calculate mean and std\n",
    "mean_real = np.mean(results['real_accuracy'])\n",
    "std_real = np.std(results['real_accuracy'])\n",
    "mean_synth = np.mean(results['synth_accuracy'])\n",
    "std_synth = np.std(results['synth_accuracy'])\n",
    "\n",
    "mean_f1_real = np.mean(results['f1_ml_real'])\n",
    "std_f1_real = np.std(results['f1_ml_real'])\n",
    "mean_f1_synth = np.mean(results['f1_ml_synth'])\n",
    "std_f1_synth = np.std(results['f1_ml_synth'])\n",
    "\n",
    "print('Copula-Results')\n",
    "print(f\"Real Data Accuracy: {100 * mean_real:.1f}% ± {100*std_real:.1f}%\")\n",
    "print(f\"Synthetic Data Accuracy: {100* mean_synth:.1f}% ± {std_synth:.1f}%\")\n",
    "print(f\"Real Data F1 Score: {100 * mean_f1_real:.1f}% ± {100*std_f1_real:.1f}%\")\n",
    "print(f\"Synthetic Data F1 Score: {100 * mean_f1_synth:.1f}% ± {100*std_f1_synth:.1f}%\")"
   ]
  },
  {
   "cell_type": "code",
   "execution_count": null,
   "id": "91b3e5ba",
   "metadata": {},
   "outputs": [],
   "source": []
  }
 ],
 "metadata": {
  "kernelspec": {
   "display_name": "mia",
   "language": "python",
   "name": "python3"
  },
  "language_info": {
   "codemirror_mode": {
    "name": "ipython",
    "version": 3
   },
   "file_extension": ".py",
   "mimetype": "text/x-python",
   "name": "python",
   "nbconvert_exporter": "python",
   "pygments_lexer": "ipython3",
   "version": "3.10.16"
  }
 },
 "nbformat": 4,
 "nbformat_minor": 5
}
