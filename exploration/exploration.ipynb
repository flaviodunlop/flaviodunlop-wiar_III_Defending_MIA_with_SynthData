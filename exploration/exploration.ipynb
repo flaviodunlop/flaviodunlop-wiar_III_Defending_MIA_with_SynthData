{
 "cells": [
  {
   "cell_type": "markdown",
   "id": "65351d57",
   "metadata": {},
   "source": [
    "# Dataset"
   ]
  },
  {
   "cell_type": "code",
   "execution_count": 29,
   "id": "15f8fbe0",
   "metadata": {},
   "outputs": [],
   "source": [
    "import pandas as pd\n",
    "import numpy as np\n",
    "from ucimlrepo import fetch_ucirepo \n",
    "import matplotlib.pyplot as plt"
   ]
  },
  {
   "cell_type": "code",
   "execution_count": 30,
   "id": "47f476f9",
   "metadata": {},
   "outputs": [],
   "source": [
    "# 2. Load and prepare data\n",
    "adult = fetch_ucirepo(id=2) \n",
    "  \n",
    "# data (as pandas dataframes) \n",
    "X = adult.data.features \n",
    "y = adult.data.targets "
   ]
  },
  {
   "cell_type": "code",
   "execution_count": 31,
   "id": "dd0919cb",
   "metadata": {},
   "outputs": [
    {
     "data": {
      "text/html": [
       "<div>\n",
       "<style scoped>\n",
       "    .dataframe tbody tr th:only-of-type {\n",
       "        vertical-align: middle;\n",
       "    }\n",
       "\n",
       "    .dataframe tbody tr th {\n",
       "        vertical-align: top;\n",
       "    }\n",
       "\n",
       "    .dataframe thead th {\n",
       "        text-align: right;\n",
       "    }\n",
       "</style>\n",
       "<table border=\"1\" class=\"dataframe\">\n",
       "  <thead>\n",
       "    <tr style=\"text-align: right;\">\n",
       "      <th></th>\n",
       "      <th>age</th>\n",
       "      <th>workclass</th>\n",
       "      <th>fnlwgt</th>\n",
       "      <th>education</th>\n",
       "      <th>education-num</th>\n",
       "      <th>marital-status</th>\n",
       "      <th>occupation</th>\n",
       "      <th>relationship</th>\n",
       "      <th>race</th>\n",
       "      <th>sex</th>\n",
       "      <th>capital-gain</th>\n",
       "      <th>capital-loss</th>\n",
       "      <th>hours-per-week</th>\n",
       "      <th>native-country</th>\n",
       "    </tr>\n",
       "  </thead>\n",
       "  <tbody>\n",
       "    <tr>\n",
       "      <th>0</th>\n",
       "      <td>39</td>\n",
       "      <td>State-gov</td>\n",
       "      <td>77516</td>\n",
       "      <td>Bachelors</td>\n",
       "      <td>13</td>\n",
       "      <td>Never-married</td>\n",
       "      <td>Adm-clerical</td>\n",
       "      <td>Not-in-family</td>\n",
       "      <td>White</td>\n",
       "      <td>Male</td>\n",
       "      <td>2174</td>\n",
       "      <td>0</td>\n",
       "      <td>40</td>\n",
       "      <td>United-States</td>\n",
       "    </tr>\n",
       "    <tr>\n",
       "      <th>1</th>\n",
       "      <td>50</td>\n",
       "      <td>Self-emp-not-inc</td>\n",
       "      <td>83311</td>\n",
       "      <td>Bachelors</td>\n",
       "      <td>13</td>\n",
       "      <td>Married-civ-spouse</td>\n",
       "      <td>Exec-managerial</td>\n",
       "      <td>Husband</td>\n",
       "      <td>White</td>\n",
       "      <td>Male</td>\n",
       "      <td>0</td>\n",
       "      <td>0</td>\n",
       "      <td>13</td>\n",
       "      <td>United-States</td>\n",
       "    </tr>\n",
       "    <tr>\n",
       "      <th>2</th>\n",
       "      <td>38</td>\n",
       "      <td>Private</td>\n",
       "      <td>215646</td>\n",
       "      <td>HS-grad</td>\n",
       "      <td>9</td>\n",
       "      <td>Divorced</td>\n",
       "      <td>Handlers-cleaners</td>\n",
       "      <td>Not-in-family</td>\n",
       "      <td>White</td>\n",
       "      <td>Male</td>\n",
       "      <td>0</td>\n",
       "      <td>0</td>\n",
       "      <td>40</td>\n",
       "      <td>United-States</td>\n",
       "    </tr>\n",
       "    <tr>\n",
       "      <th>3</th>\n",
       "      <td>53</td>\n",
       "      <td>Private</td>\n",
       "      <td>234721</td>\n",
       "      <td>11th</td>\n",
       "      <td>7</td>\n",
       "      <td>Married-civ-spouse</td>\n",
       "      <td>Handlers-cleaners</td>\n",
       "      <td>Husband</td>\n",
       "      <td>Black</td>\n",
       "      <td>Male</td>\n",
       "      <td>0</td>\n",
       "      <td>0</td>\n",
       "      <td>40</td>\n",
       "      <td>United-States</td>\n",
       "    </tr>\n",
       "    <tr>\n",
       "      <th>4</th>\n",
       "      <td>28</td>\n",
       "      <td>Private</td>\n",
       "      <td>338409</td>\n",
       "      <td>Bachelors</td>\n",
       "      <td>13</td>\n",
       "      <td>Married-civ-spouse</td>\n",
       "      <td>Prof-specialty</td>\n",
       "      <td>Wife</td>\n",
       "      <td>Black</td>\n",
       "      <td>Female</td>\n",
       "      <td>0</td>\n",
       "      <td>0</td>\n",
       "      <td>40</td>\n",
       "      <td>Cuba</td>\n",
       "    </tr>\n",
       "  </tbody>\n",
       "</table>\n",
       "</div>"
      ],
      "text/plain": [
       "   age         workclass  fnlwgt  education  education-num  \\\n",
       "0   39         State-gov   77516  Bachelors             13   \n",
       "1   50  Self-emp-not-inc   83311  Bachelors             13   \n",
       "2   38           Private  215646    HS-grad              9   \n",
       "3   53           Private  234721       11th              7   \n",
       "4   28           Private  338409  Bachelors             13   \n",
       "\n",
       "       marital-status         occupation   relationship   race     sex  \\\n",
       "0       Never-married       Adm-clerical  Not-in-family  White    Male   \n",
       "1  Married-civ-spouse    Exec-managerial        Husband  White    Male   \n",
       "2            Divorced  Handlers-cleaners  Not-in-family  White    Male   \n",
       "3  Married-civ-spouse  Handlers-cleaners        Husband  Black    Male   \n",
       "4  Married-civ-spouse     Prof-specialty           Wife  Black  Female   \n",
       "\n",
       "   capital-gain  capital-loss  hours-per-week native-country  \n",
       "0          2174             0              40  United-States  \n",
       "1             0             0              13  United-States  \n",
       "2             0             0              40  United-States  \n",
       "3             0             0              40  United-States  \n",
       "4             0             0              40           Cuba  "
      ]
     },
     "execution_count": 31,
     "metadata": {},
     "output_type": "execute_result"
    }
   ],
   "source": [
    "X.head()"
   ]
  },
  {
   "cell_type": "code",
   "execution_count": 35,
   "id": "0e46e4b6",
   "metadata": {},
   "outputs": [
    {
     "data": {
      "text/plain": [
       "occupation\n",
       "Prof-specialty       6172\n",
       "Craft-repair         6112\n",
       "Exec-managerial      6086\n",
       "Adm-clerical         5611\n",
       "Sales                5504\n",
       "Other-service        4923\n",
       "Machine-op-inspct    3022\n",
       "Transport-moving     2355\n",
       "Handlers-cleaners    2072\n",
       "?                    1843\n",
       "Farming-fishing      1490\n",
       "Tech-support         1446\n",
       "Protective-serv       983\n",
       "Priv-house-serv       242\n",
       "Armed-Forces           15\n",
       "Name: count, dtype: int64"
      ]
     },
     "execution_count": 35,
     "metadata": {},
     "output_type": "execute_result"
    }
   ],
   "source": [
    "X['occupation'].value_counts()"
   ]
  },
  {
   "cell_type": "code",
   "execution_count": 34,
   "id": "af1954ab",
   "metadata": {},
   "outputs": [
    {
     "data": {
      "image/png": "[encoded data removed]",
      "text/plain": [
       "<Figure size 640x480 with 1 Axes>"
      ]
     },
     "metadata": {},
     "output_type": "display_data"
    }
   ],
   "source": [
    "value_counts = X['occupation'].value_counts()\n",
    "\n",
    "# Plot\n",
    "value_counts.plot(kind='bar')\n",
    "plt.xlabel('Category')\n",
    "plt.ylabel('Count')\n",
    "plt.title('Counts of Categories in occupation')\n",
    "plt.show()"
   ]
  },
  {
   "cell_type": "code",
   "execution_count": 36,
   "id": "54439631",
   "metadata": {},
   "outputs": [
    {
     "data": {
      "text/plain": [
       "marital-status\n",
       "Married-civ-spouse       22379\n",
       "Never-married            16117\n",
       "Divorced                  6633\n",
       "Separated                 1530\n",
       "Widowed                   1518\n",
       "Married-spouse-absent      628\n",
       "Married-AF-spouse           37\n",
       "Name: count, dtype: int64"
      ]
     },
     "execution_count": 36,
     "metadata": {},
     "output_type": "execute_result"
    }
   ],
   "source": [
    "X['marital-status'].value_counts()"
   ]
  },
  {
   "cell_type": "code",
   "execution_count": 33,
   "id": "3a4b66e2",
   "metadata": {},
   "outputs": [
    {
     "data": {
      "image/png": "[encoded data removed]",
      "text/plain": [
       "<Figure size 640x480 with 1 Axes>"
      ]
     },
     "metadata": {},
     "output_type": "display_data"
    }
   ],
   "source": [
    "value_counts = X['marital-status'].value_counts()\n",
    "\n",
    "# Plot\n",
    "value_counts.plot(kind='bar')\n",
    "plt.xlabel('Category')\n",
    "plt.ylabel('Count')\n",
    "plt.title('Counts of Categories in marital-status')\n",
    "plt.show()"
   ]
  },
  {
   "cell_type": "code",
   "execution_count": null,
   "id": "cf23ded6",
   "metadata": {},
   "outputs": [],
   "source": [
    "def report(X, y, dataset_name=\"Adult\", task_type=\"Binary classification\"):\n",
    "    # Determine numerical and categorical columns\n",
    "    numerical_features = X.select_dtypes(include=['int64', 'float64']).columns.tolist()\n",
    "    categorical_features = X.select_dtypes(include=['object', 'category']).columns.tolist()\n",
    "\n",
    "    # Pretty print\n",
    "    print(f\"Number of samples: {X.shape[0]}\")\n",
    "    print(\"\\nNumerical Features:\")\n",
    "    for col in numerical_features:\n",
    "        print(f\"  - {col}\")\n",
    "\n",
    "    print(\"\\nCategorical Features and Unique Categories:\")\n",
    "    num_unique_categories = 0\n",
    "    for col in categorical_features:\n",
    "        num_unique = X[col].nunique()\n",
    "        print(f\"  - {col} ({num_unique} unique categories)\")\n",
    "        num_unique_categories+=num_unique\n",
    "\n",
    "    print(f\"\\nTotal num of unique categories: {num_unique_categories}\")"
   ]
  },
  {
   "cell_type": "code",
   "execution_count": null,
   "id": "2a81d210",
   "metadata": {},
   "outputs": [
    {
     "name": "stdout",
     "output_type": "stream",
     "text": [
      "Number of samples: 48842\n",
      "\n",
      "Numerical Features:\n",
      "  - age\n",
      "  - fnlwgt\n",
      "  - education-num\n",
      "  - capital-gain\n",
      "  - capital-loss\n",
      "  - hours-per-week\n",
      "\n",
      "Categorical Features and Unique Categories:\n",
      "  - workclass (9 unique categories)\n",
      "  - education (16 unique categories)\n",
      "  - marital-status (7 unique categories)\n",
      "  - occupation (15 unique categories)\n",
      "  - relationship (6 unique categories)\n",
      "  - race (5 unique categories)\n",
      "  - sex (2 unique categories)\n",
      "  - native-country (42 unique categories)\n",
      "\n",
      "Total num of unique categories: 102\n"
     ]
    }
   ],
   "source": [
    "report(X, y)"
   ]
  },
  {
   "cell_type": "code",
   "execution_count": null,
   "id": "204517fe",
   "metadata": {},
   "outputs": [
    {
     "name": "stdout",
     "output_type": "stream",
     "text": [
      "age                 0\n",
      "workclass         963\n",
      "fnlwgt              0\n",
      "education           0\n",
      "education-num       0\n",
      "marital-status      0\n",
      "occupation        966\n",
      "relationship        0\n",
      "race                0\n",
      "sex                 0\n",
      "capital-gain        0\n",
      "capital-loss        0\n",
      "hours-per-week      0\n",
      "native-country    274\n",
      "dtype: int64\n",
      "income    0\n",
      "dtype: int64\n"
     ]
    }
   ],
   "source": [
    "print(X.isna().sum())\n",
    "print(y.isna().sum())"
   ]
  },
  {
   "cell_type": "code",
   "execution_count": null,
   "id": "cf24ebc8",
   "metadata": {},
   "outputs": [
    {
     "name": "stdout",
     "output_type": "stream",
     "text": [
      "Before drop nan: 48842\n",
      "After drop nan: 45222\n"
     ]
    },
    {
     "name": "stderr",
     "output_type": "stream",
     "text": [
      "C:\\Users\\leand\\AppData\\Local\\Temp\\ipykernel_33668\\1088175984.py:18: FutureWarning: Downcasting behavior in `replace` is deprecated and will be removed in a future version. To retain the old behavior, explicitly call `result.infer_objects(copy=False)`. To opt-in to the future behavior, set `pd.set_option('future.no_silent_downcasting', True)`\n",
      "  df['income'] = df['income'].replace({'>50K': 1, '<=50K': 0}) # >50k = 1, <=50k = 0\n"
     ]
    }
   ],
   "source": [
    "# Merge the features and targets into a single dataframe\n",
    "df = pd.concat([X, y], axis=1)\n",
    "# Replace '?' with NaN\n",
    "df = df.replace('?', np.nan)\n",
    "\n",
    "print(f\"Before drop nan: {len(df)}\")\n",
    "\n",
    "# Drop rows with missing values\n",
    "df = df.dropna()\n",
    "\n",
    "print(f\"After drop nan: {len(df)}\")\n",
    "\n",
    "# Replace '.' in income\n",
    "df['income'] = df['income'].replace('<=50K.', '<=50K')\n",
    "df['income'] = df['income'].replace('>50K.', '>50K')\n",
    "\n",
    "# Rpelace Target values with binary\n",
    "df['income'] = df['income'].replace({'>50K': 1, '<=50K': 0}) # >50k = 1, <=50k = 0\n",
    "\n",
    "# Group all Countries except the top 3 into 'Other'\n",
    "top_countries = df['native-country'].value_counts().index[:3]\n",
    "df['native-country'] = df['native-country'].apply(lambda x: x if x in top_countries else 'Other')\n",
    "\n",
    "# Proprecess Catgorical Columns to minimze risk of missmatch in matrices shape after synthesizing\n",
    "# drop rows where worklass = without-pay\n",
    "df = df[df['workclass'] != 'Without-pay']\n",
    "# replace 5th-6th , 1st-4th and Preschool with 'Primary'\n",
    "df['education'] = df['education'].replace('5th-6th', 'Primary')\n",
    "df['education'] = df['education'].replace('1st-4th', 'Primary')\n",
    "df['education'] = df['education'].replace('Preschool', 'Primary')\n",
    "# drop rows where Marital status = Married-AF-spouse\n",
    "df = df[df['marital-status'] != 'Married-AF-spouse']\n",
    "# drop rows wehere occupation = Armed-Forces\n",
    "df = df[df['occupation'] != 'Armed-Forces']"
   ]
  },
  {
   "cell_type": "code",
   "execution_count": null,
   "id": "22922d67",
   "metadata": {},
   "outputs": [],
   "source": [
    "# Assuming your dataframe is called df\n",
    "X = df.drop(columns=['income'])\n",
    "y = df['income']"
   ]
  },
  {
   "cell_type": "code",
   "execution_count": null,
   "id": "8064ec52",
   "metadata": {},
   "outputs": [
    {
     "name": "stdout",
     "output_type": "stream",
     "text": [
      "Number of samples: 45155\n",
      "\n",
      "Numerical Features:\n",
      "  - age\n",
      "  - fnlwgt\n",
      "  - education-num\n",
      "  - capital-gain\n",
      "  - capital-loss\n",
      "  - hours-per-week\n",
      "\n",
      "Categorical Features and Unique Categories:\n",
      "  - workclass (6 unique categories)\n",
      "  - education (14 unique categories)\n",
      "  - marital-status (6 unique categories)\n",
      "  - occupation (13 unique categories)\n",
      "  - relationship (6 unique categories)\n",
      "  - race (5 unique categories)\n",
      "  - sex (2 unique categories)\n",
      "  - native-country (4 unique categories)\n",
      "\n",
      "Total num of unique categories: 56\n"
     ]
    }
   ],
   "source": [
    "report(X, y)"
   ]
  },
  {
   "cell_type": "markdown",
   "id": "b69bb78e",
   "metadata": {},
   "source": [
    "---"
   ]
  }
 ],
 "metadata": {
  "kernelspec": {
   "display_name": "mia",
   "language": "python",
   "name": "python3"
  },
  "language_info": {
   "codemirror_mode": {
    "name": "ipython",
    "version": 3
   },
   "file_extension": ".py",
   "mimetype": "text/x-python",
   "name": "python",
   "nbconvert_exporter": "python",
   "pygments_lexer": "ipython3",
   "version": "3.10.16"
  }
 },
 "nbformat": 4,
 "nbformat_minor": 5
}
